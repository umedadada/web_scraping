{
  "cells": [
    {
      "cell_type": "markdown",
      "metadata": {
        "id": "view-in-github",
        "colab_type": "text"
      },
      "source": [
        "<a href=\"https://colab.research.google.com/github/umedadada/web_scraping/blob/master/scraping_picture_motto_miru.ipynb\" target=\"_parent\"><img src=\"https://colab.research.google.com/assets/colab-badge.svg\" alt=\"Open In Colab\"/></a>"
      ]
    },
    {
      "cell_type": "code",
      "source": [
        "# Colabでseleniumを使うためのセットアップ\n",
        "%%shell\n",
        "\n",
        "cat > /etc/apt/sources.list.d/debian.list <<'EOF' deb [arch=amd64 signed-by=/usr/share/keyrings/debian-buster.gpg] http://deb.debian.org/debian buster main deb [arch=amd64 signed-by=/usr/share/keyrings/debian-buster-updates.gpg] http://deb.debian.org/debian buster-updates main deb [arch=amd64 signed-by=/usr/share/keyrings/debian-security-buster.gpg] http://deb.debian.org/debian-security buster/updates main EOF\n",
        "\n",
        "apt-key adv --keyserver keyserver.ubuntu.com --recv-keys DCC9EFBF77E11517 apt-key adv --keyserver keyserver.ubuntu.com --recv-keys 648ACFD622F3D138 apt-key adv --keyserver keyserver.ubuntu.com --recv-keys 112695A0E562B32A\n",
        "\n",
        "apt-key export 77E11517 | gpg --dearmour -o /usr/share/keyrings/debian-buster.gpg apt-key export 22F3D138 | gpg --dearmour -o /usr/share/keyrings/debian-buster-updates.gpg apt-key export E562B32A | gpg --dearmour -o /usr/share/keyrings/debian-security-buster.gpg\n",
        "\n",
        "cat > /etc/apt/preferences.d/chromium.pref << 'EOF' Package: * Pin: release a=eoan Pin-Priority: 500\n",
        "\n",
        "Package: * Pin: origin \"deb.debian.org\" Pin-Priority: 300\n",
        "\n",
        "Package: chromium* Pin: origin \"deb.debian.org\" Pin-Priority: 700 EOF\n",
        "\n",
        "apt-get update apt-get install chromium chromium-driver\n",
        "\n",
        "pip install -q selenium"
      ],
      "metadata": {
        "id": "6Yn6phVVvHj0"
      },
      "execution_count": null,
      "outputs": []
    },
    {
      "cell_type": "code",
      "execution_count": 48,
      "metadata": {
        "id": "o2fvrWHEStsn"
      },
      "outputs": [],
      "source": [
        "# ライブラリの読み込み\n",
        "from selenium import webdriver\n",
        "from selenium.webdriver.common.by import By\n",
        "from bs4 import BeautifulSoup\n",
        "import time\n",
        "from selenium.webdriver.chrome.service import Service\n",
        "import requests\n",
        "import urllib.request as req"
      ]
    },
    {
      "cell_type": "code",
      "source": [
        "# set parameta\n",
        "# input\n",
        "page_url=\"URL\"\n",
        "button_id=\"id\"\n",
        "# output\n",
        "google_drive_save_dir = \"./gdrive/My Drive/ほげほげ\" # ダウンロード先の指定"
      ],
      "metadata": {
        "id": "T2A9_4yCwL_K"
      },
      "execution_count": null,
      "outputs": []
    },
    {
      "cell_type": "code",
      "source": [
        "# ブラウザをheadlessモード実行\n",
        "options = webdriver.ChromeOptions()\n",
        "#ヘッドレスモード（バックグラウンドで起動）で実行。コラボの場合、必須。\n",
        "options.add_argument('--headless')\n",
        "#サンドボックスモードの解除。これも必須。\n",
        "options.add_argument('--no-sandbox')\n",
        "#これも設定した方がよい。\n",
        "options.add_argument('--disable-dev-shm-usage')\n",
        "# 実行する場所の指定\n",
        "service = Service(executable_path=r'/usr/bin/chromedriver')"
      ],
      "metadata": {
        "id": "kidHdSc1I8Bu"
      },
      "execution_count": 49,
      "outputs": []
    },
    {
      "cell_type": "code",
      "source": [
        "#インスタンス化\n",
        "driver = webdriver.Chrome(service=service, options=options)\n",
        "\n",
        "#指定したドライバーが見つかるまで待機\n",
        "driver.implicitly_wait(10)\n",
        "\n",
        "# #urlの指定\n",
        "# page_url=\"URL\"\n",
        "\n",
        "# ブラウザの読み込み\n",
        "driver.get(page_url)\n",
        "time.sleep(3)\n",
        "\n",
        "print(\"サイトのタイトル：\", driver.title)"
      ],
      "metadata": {
        "collapsed": true,
        "id": "IxD9iX3EJFYb"
      },
      "execution_count": null,
      "outputs": []
    },
    {
      "cell_type": "code",
      "execution_count": 51,
      "metadata": {
        "id": "IuFZQv1vVOhd",
        "collapsed": true
      },
      "outputs": [],
      "source": [
        "#指定したurlへ遷移する\n",
        "driver.get(page_url)\n",
        "\n",
        "#urlへ遷移する前に下の処理に行かないための記述\n",
        "time.sleep(3)"
      ]
    },
    {
      "cell_type": "code",
      "source": [
        "x = 1\n",
        "while True:\n",
        "    #クリックの動作を入力\n",
        "    #find_element_by_idはhtmlのidの要素を指定して入力できる\n",
        "    browser_from = driver.find_element(By.ID, button_id)\n",
        "    time.sleep(3)\n",
        "    try:\n",
        "      browser_from.click()\n",
        "      print('クリックしました::::'+str(x)+'回目')\n",
        "      x = x + 1\n",
        "    except:\n",
        "      break\n",
        "\n",
        "#指定したウェブサイトのhtmlを取得する\n",
        "time.sleep(3)\n",
        "parse_html = BeautifulSoup(driver.page_source, 'html.parser')"
      ],
      "metadata": {
        "id": "iYlxpIScLdbx"
      },
      "execution_count": null,
      "outputs": []
    },
    {
      "cell_type": "code",
      "source": [
        "soup=parse_html"
      ],
      "metadata": {
        "id": "KU_h3C-cNezM"
      },
      "execution_count": 53,
      "outputs": []
    },
    {
      "cell_type": "code",
      "execution_count": null,
      "metadata": {
        "id": "kzW47v6USxo9"
      },
      "outputs": [],
      "source": [
        "# 画像のリンク先を取得\n",
        "img_tags = soup.find_all(\"img\")\n",
        "img_urls = []\n",
        "\n",
        "for img_tag in img_tags:\n",
        "  url = img_tag.get(\"src\")\n",
        "  if url != None:\n",
        "    img_urls.append(url)\n",
        "\n",
        "# 画像ダウンロードのための関数定義\n",
        "def download_image(url, file_path):\n",
        "  r = requests.get(url, stream=True)\n",
        "  if r.status_code == 200:\n",
        "    with open(file_path, \"wb\") as f:\n",
        "      f.write(r.content)"
      ]
    },
    {
      "cell_type": "code",
      "source": [
        "# ダウンロード先ファイルの参照(google drive用)\n",
        "import os\n",
        "from google.colab import drive\n",
        "drive.mount('./gdrive')\n",
        "# google_drive_save_dir = \"./gdrive/My Drive/ほげほげ\" # ダウンロード先の指定\n",
        "\n",
        "for index, url in enumerate(img_urls):\n",
        "  file_name = \"{}.jpg\".format(index)\n",
        "  print(file_name)\n",
        "  image_path = os.path.join(google_drive_save_dir, file_name)\n",
        "  print(image_path)\n",
        "  try:\n",
        "    download_image(url=url, file_path=image_path)\n",
        "  except:\n",
        "    break"
      ],
      "metadata": {
        "id": "o5qMx6e4uwxz"
      },
      "execution_count": null,
      "outputs": []
    }
  ],
  "metadata": {
    "colab": {
      "provenance": [],
      "toc_visible": true,
      "authorship_tag": "ABX9TyObwo/9Hr4hIK79vnTyugsY",
      "include_colab_link": true
    },
    "kernelspec": {
      "display_name": "Python 3",
      "name": "python3"
    },
    "language_info": {
      "name": "python"
    }
  },
  "nbformat": 4,
  "nbformat_minor": 0
}