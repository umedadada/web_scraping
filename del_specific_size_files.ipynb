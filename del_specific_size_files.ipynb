{
  "nbformat": 4,
  "nbformat_minor": 0,
  "metadata": {
    "colab": {
      "provenance": [],
      "authorship_tag": "ABX9TyMduuEIoJGxANdqWfcWfj5h",
      "include_colab_link": true
    },
    "kernelspec": {
      "name": "python3",
      "display_name": "Python 3"
    },
    "language_info": {
      "name": "python"
    }
  },
  "cells": [
    {
      "cell_type": "markdown",
      "metadata": {
        "id": "view-in-github",
        "colab_type": "text"
      },
      "source": [
        "<a href=\"https://colab.research.google.com/github/umedadada/web_scraping/blob/master/del_specific_size_files.ipynb\" target=\"_parent\"><img src=\"https://colab.research.google.com/assets/colab-badge.svg\" alt=\"Open In Colab\"/></a>"
      ]
    },
    {
      "cell_type": "code",
      "execution_count": 15,
      "metadata": {
        "id": "JWav2Btv5ndY"
      },
      "outputs": [],
      "source": [
        "# ダウンロード先ファイルの参照(google drive用)\n",
        "import os\n",
        "from google.colab import drive\n",
        "import glob"
      ]
    },
    {
      "cell_type": "code",
      "source": [
        "# ドライブをマウント\n",
        "drive.mount('./gdrive')"
      ],
      "metadata": {
        "id": "xfSv1Duw6VL7"
      },
      "execution_count": null,
      "outputs": []
    },
    {
      "cell_type": "code",
      "source": [
        "files=glob.glob('./gdrive/My Drive/FOLDER_NAME/*')"
      ],
      "metadata": {
        "collapsed": true,
        "id": "PaTU9OjC5v7s"
      },
      "execution_count": 17,
      "outputs": []
    },
    {
      "cell_type": "code",
      "source": [
        "for file in files:\n",
        "  if os.path.getsize(file) <= 8799:\n",
        "    print('HIT')\n",
        "    !rm -rf $file\n",
        "  else:\n",
        "    print('PASS')\n",
        "    pass"
      ],
      "metadata": {
        "id": "OdyQyVkc6d2V"
      },
      "execution_count": null,
      "outputs": []
    }
  ]
}